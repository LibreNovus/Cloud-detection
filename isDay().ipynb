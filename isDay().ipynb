{
 "cells": [
  {
   "cell_type": "code",
   "execution_count": 37,
   "metadata": {},
   "outputs": [
    {
     "name": "stdout",
     "output_type": "stream",
     "text": [
      "ISS 7:13:12.08 -31:37:18.8\n",
      "moon 0:24:01.97 -2:58:37.4\n",
      "sun 18:03:54.41 -23:26:02.7\n",
      "Sun, ISS -2.839238 radians.\n",
      "Absolute: 2.839238200644423\n",
      "Night\n"
     ]
    }
   ],
   "source": [
    "import ephem\n",
    "import math\n",
    "\n",
    "name = \"ISS (ZARYA)\"\n",
    "line1 = \"1 25544U 98067A   20299.39644679  .00001347  00000-0  32240-4 0  9990\"\n",
    "line2 = \"2 25544  51.6450  64.1844 0001663  59.0364 352.4687 15.49332070252203\"\n",
    "\n",
    "iss = ephem.readtle(name, line1, line2)\n",
    "iss.compute()\n",
    "\n",
    "sun = ephem.Sun()\n",
    "sun.compute()\n",
    "\n",
    "moon = ephem.Moon()\n",
    "moon.compute()\n",
    "\n",
    "print('ISS',iss.ra, iss.dec)\n",
    "print('moon', moon.ra, moon.dec)\n",
    "print('sun', sun.ra, sun.dec)\n",
    "\n",
    "vinkel = float(repr(iss.ra))-float(repr(sun.ra))\n",
    "print('Sun, ISS {:1.6f} radians.'.format(vinkel))\n",
    "\n",
    "abs_vinkel = abs(vinkel)\n",
    "print('Absolute:', abs_vinkel)\n",
    "\n",
    "\n",
    "if 3/2*math.pi > abs_vinkel > math.pi/2:\n",
    "    print('Night')\n",
    "else:\n",
    "    print('Day')"
   ]
  },
  {
   "cell_type": "code",
   "execution_count": 13,
   "metadata": {},
   "outputs": [
    {
     "name": "stdout",
     "output_type": "stream",
     "text": [
      "4.71238898038469\n",
      "1.5707963267948966\n"
     ]
    }
   ],
   "source": [
    "print(3/2*math.pi)\n",
    "print(math.pi/2)"
   ]
  }
 ],
 "metadata": {
  "kernelspec": {
   "display_name": "Python 3",
   "language": "python",
   "name": "python3"
  },
  "language_info": {
   "codemirror_mode": {
    "name": "ipython",
    "version": 3
   },
   "file_extension": ".py",
   "mimetype": "text/x-python",
   "name": "python",
   "nbconvert_exporter": "python",
   "pygments_lexer": "ipython3",
   "version": "3.7.6"
  }
 },
 "nbformat": 4,
 "nbformat_minor": 4
}
