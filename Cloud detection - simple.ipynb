{
 "cells": [
  {
   "cell_type": "code",
   "execution_count": 2,
   "metadata": {},
   "outputs": [],
   "source": [
    "import numpy as np\n",
    "import cv2"
   ]
  },
  {
   "cell_type": "code",
   "execution_count": 20,
   "metadata": {},
   "outputs": [],
   "source": [
    "img = cv2.imread('data/1.png') '1.png 悪い'"
   ]
  },
  {
   "cell_type": "code",
   "execution_count": 26,
   "metadata": {},
   "outputs": [
    {
     "name": "stdout",
     "output_type": "stream",
     "text": [
      "曇り割合 0.034861607142857146\n"
     ]
    }
   ],
   "source": [
    "def find_cloud(img):\n",
    "    hsv = cv2.cvtColor(img, cv2.COLOR_BGR2HSV)\n",
    "    mask = cv2.inRange(hsv, (0,0,120), (180,30,255))\n",
    "    output = cv2.bitwise_and(img, img, mask=mask)\n",
    "    return output\n",
    "\n",
    "def compute_percentage(masked_img):\n",
    "    single_band_img= masked_img[:,:,0]>0\n",
    "    npixel_class = sum(sum(1*single_band_img))\n",
    "    return npixel_class\n",
    "\n",
    "def show_picture(img,name):\n",
    "    cv2.namedWindow(name,cv2.WINDOW_NORMAL)\n",
    "    cv2.imshow(name,img)\n",
    "    cv2.resizeWindow(name, 1280,720)\n",
    "\n",
    "def calculate_percentage(cloud_output):\n",
    "    ncloud_pixel = compute_percentage(cloud_output)\n",
    "    total_img_pixel = img[:,:,0].shape[0]*img[:,:,0].shape[1]\n",
    "    return ncloud_pixel/total_img_pixel\n",
    "\n",
    "def global_classificator(img):\n",
    "    cloud_output = find_cloud(img)\n",
    "\n",
    "    show_picture(cloud_output,'曇')\n",
    "    print('曇り割合', calculate_percentage(cloud_output))\n",
    "\n",
    "global_classificator(img)\n",
    "\n",
    "cv2.waitKey(0)\n",
    "cv2.destroyAllWindows()"
   ]
  },
  {
   "cell_type": "code",
   "execution_count": 25,
   "metadata": {},
   "outputs": [
    {
     "name": "stdout",
     "output_type": "stream",
     "text": [
      "border, sea, cloud, ground\n",
      "[0.21091294642857142, 0.5146919642857143, 0.034861607142857146, 0.2395234375]\n"
     ]
    }
   ],
   "source": [
    "def find_border(img):\n",
    "    hsv = cv2.cvtColor(img, cv2.COLOR_BGR2HSV)\n",
    "    mask = cv2.inRange(hsv, (0,0,0), (180,255,45))\n",
    "    output = cv2.bitwise_and(img, img, mask=mask)\n",
    "    return output\n",
    "\n",
    "def find_sea(img):\n",
    "    hsv = cv2.cvtColor(img, cv2.COLOR_BGR2HSV)\n",
    "    mask = cv2.inRange(hsv, (90,50,50), (125,255,255))\n",
    "    output = cv2.bitwise_and(img, img, mask=mask)\n",
    "    return output\n",
    "\n",
    "def find_cloud(img):\n",
    "    hsv = cv2.cvtColor(img, cv2.COLOR_BGR2HSV)\n",
    "    mask = cv2.inRange(hsv, (0,0,120), (180,30,255))\n",
    "    output = cv2.bitwise_and(img, img, mask=mask)\n",
    "    return output\n",
    "\n",
    "def find_ground(img, border, sea, cloud):\n",
    "    output = cv2.bitwise_xor(img, border)\n",
    "    output = cv2.bitwise_xor(output, sea)\n",
    "    output = cv2.bitwise_xor(output, cloud)\n",
    "    return output\n",
    "\n",
    "def compute_percentage(masked_img):\n",
    "    single_band_img= masked_img[:,:,0]>0\n",
    "    npixel_class = sum(sum(1*single_band_img))\n",
    "    return npixel_class\n",
    "\n",
    "def show_picture(img,name):\n",
    "    cv2.namedWindow(name,cv2.WINDOW_NORMAL)\n",
    "    cv2.imshow(name,img)\n",
    "    cv2.resizeWindow(name, 1280,720)\n",
    "\n",
    "def calculate_percentage(border_output,sea_output,cloud_output,ground_output):\n",
    "    nborder_pixel = compute_percentage(border_output)\n",
    "    nsea_pixel = compute_percentage(sea_output)\n",
    "    ncloud_pixel = compute_percentage(cloud_output)\n",
    "    nground_pixel = compute_percentage(ground_output)\n",
    "    total_img_pixel = img[:,:,0].shape[0]*img[:,:,0].shape[1]\n",
    "    return [nborder_pixel/total_img_pixel, nsea_pixel/total_img_pixel, ncloud_pixel/total_img_pixel, nground_pixel/total_img_pixel]\n",
    "\n",
    "def global_classificator(img):\n",
    "    border_output = find_border(img)\n",
    "    sea_output = find_sea(img)\n",
    "    cloud_output = find_cloud(img)\n",
    "    ground_output = find_ground(img, border_output, sea_output, cloud_output)\n",
    "\n",
    "    show_picture(border_output,'border')\n",
    "    show_picture(sea_output,'sea')\n",
    "    show_picture(cloud_output,'cloud')\n",
    "    show_picture(ground_output,'ground')\n",
    "    print('border, sea, cloud, ground')\n",
    "    print(calculate_percentage(border_output,sea_output,cloud_output,ground_output))\n",
    "\n",
    "global_classificator(img)\n",
    "cv2.waitKey(0)\n",
    "cv2.destroyAllWindows()"
   ]
  },
  {
   "cell_type": "code",
   "execution_count": null,
   "metadata": {},
   "outputs": [],
   "source": []
  }
 ],
 "metadata": {
  "kernelspec": {
   "display_name": "Python 3",
   "language": "python",
   "name": "python3"
  },
  "language_info": {
   "codemirror_mode": {
    "name": "ipython",
    "version": 3
   },
   "file_extension": ".py",
   "mimetype": "text/x-python",
   "name": "python",
   "nbconvert_exporter": "python",
   "pygments_lexer": "ipython3",
   "version": "3.7.6"
  }
 },
 "nbformat": 4,
 "nbformat_minor": 4
}
